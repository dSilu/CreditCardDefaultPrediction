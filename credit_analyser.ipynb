{
  "nbformat": 4,
  "nbformat_minor": 0,
  "metadata": {
    "colab": {
      "name": "Untitled21.ipynb",
      "provenance": [],
      "collapsed_sections": []
    },
    "kernelspec": {
      "name": "python3",
      "display_name": "Python 3"
    },
    "language_info": {
      "name": "python"
    }
  },
  "cells": [
    {
      "cell_type": "markdown",
      "source": [
        "# Credit request Analyzer"
      ],
      "metadata": {
        "id": "UuhOTTO8lGSg"
      }
    },
    {
      "cell_type": "code",
      "execution_count": 68,
      "metadata": {
        "id": "aHRuNxWRlEl7"
      },
      "outputs": [],
      "source": [
        "def make_decision():\n",
        "    \"\"\"\n",
        "    Takes credit applicant's data and returns the decision whether the loan will be approved or not.\n",
        "    \"\"\"\n",
        "\n",
        "    print(\"Initializing Model.../\")\n",
        "    print(\"\")\n",
        "    # import libaries\n",
        "    import numpy as np\n",
        "    import pandas as pd\n",
        "    from sklearn.preprocessing import MinMaxScaler\n",
        "    from sklearn.ensemble import RandomForestClassifier\n",
        "    from sklearn.model_selection import train_test_split\n",
        "    from sklearn.metrics import confusion_matrix, roc_auc_score\n",
        "\n",
        "    # load dataset\n",
        "    data = pd.read_csv('resampled_credit_data.csv')\n",
        "\n",
        "    # split\n",
        "    features, target = data.iloc[:,:23], data['payment_default']\n",
        "    X_train, X_test, y_train, y_test = train_test_split(features, target, test_size=0.2, random_state=19, shuffle=True)\n",
        "\n",
        "    # scaling\n",
        "    scaler = MinMaxScaler()\n",
        "    X_train = scaler.fit_transform(X_train)\n",
        "    X_test = scaler.transform(X_test)\n",
        "\n",
        "    # take input\n",
        "    print(\"Enter the details of the applicant correctly\".upper())\n",
        "    print(\"====\"*20)\n",
        "    print(\"**Note** Make sure entries are numeric only.\")\n",
        "    print(\"**Note** If the consumer is new and with no credit issues, enter -1 for repayment, 0 for previous payment statements.\")\n",
        "    # Personal information\n",
        "    print(\"\")\n",
        "    print(\"Enter personal information:\".upper())\n",
        "    age = int(input(\"Enter age of consumer: \"))\n",
        "    sex = int(input(\"Enter gender of consumer (male: 1, female: 2): \"))\n",
        "    education = int(input(\"Enter education of the consumer (Graduate:1, University:2, High School:3, Others:4, Unknown:5): \"))\n",
        "    marriage = int(input(\"Mariatal status (Married:1, Unmarried:2, Other:3): \"))\n",
        "    cred_limit = float(input(\"Credit limit (NT Dollar): \"))\n",
        "    # Repayment status\n",
        "    print(\"\")\n",
        "    print(\"Enter repayment status\".upper())\n",
        "    print(\"**Note** For repayment status map the entries as follows:\")\n",
        "    print(\"Pay duly: -1,\\nPayment delay for 1 month: 1,\\nDelay for 2 months: 2, \\nDelay for 3 months: 3, \\nDelay for 4 months: 4,\\\n",
        "     \\nDelay for 5 months: 5, \\nDelay for 6 months: 6 \\nDelay for 7 months: 7, \\nDelay for 8 months: 8, \\nDelay for 9 months and above: 9\")\n",
        "    print(\"**Note** For new consumer or with no credit history, enter -1.\")\n",
        "    re_apr = int(input(\"Repayment status in April: \"))\n",
        "    re_may = int(input(\"Repayment status in May: \"))\n",
        "    re_jun = int(input(\"Repayment status in June: \"))\n",
        "    re_jul = int(input(\"Repayment status in July: \"))\n",
        "    re_aug = int(input(\"Repayment status in August: \"))\n",
        "    re_sep = int(input(\"Repayment status in September: \"))\n",
        "    # Bill amount\n",
        "    print(\"\")\n",
        "    print(\"Enter bill amount details\".upper())\n",
        "    print(\"The asking bill amount for this form is between April 2005 - September 2005.\\nHowever, you need enter the last 6 months bill amount\")\n",
        "    bill_apr = float(input(\"Bill amount in April (NT Dollar): \"))\n",
        "    bill_may = float(input(\"Bill amount in May (NT Dollar): \"))\n",
        "    bill_jun = float(input(\"Bill amount in Jun (NT Dollar): \"))\n",
        "    bill_jul = float(input(\"Bill amount in July (NT Dollar): \"))\n",
        "    bill_aug = float(input(\"Bill amount in August (NT Dollar): \"))\n",
        "    bill_sep = float(input(\"Bill amount in September (NT Dollar): \"))\n",
        "    # previous payment status\n",
        "    print(\"\")\n",
        "    print(\"Enter previous payment status\".upper())\n",
        "    print(\"Enter the previous payment status for last 6 months\")\n",
        "    pre_apr = float(input(\"Previous payment amount in April (NT Dollar): \"))\n",
        "    pre_may = float(input(\"Previous payment amount in may (NT Dollar): \"))\n",
        "    pre_jun = float(input(\"Previous payment amount in Jun (NT Dollar): \"))\n",
        "    pre_jul = float(input(\"Previous payment amount in July (NT Dollar): \"))\n",
        "    pre_aug = float(input(\"Previous payment amount in August (NT Dollar): \"))\n",
        "    pre_sep = float(input(\"Previous payment amount in September (NT Dollar): \"))\n",
        "\n",
        "    print(\"====\"*20)\n",
        "    print(\"\")\n",
        "    print(\"====\"*20)\n",
        "\n",
        "    print(\"Processing Application.../\")\n",
        "    print(\"\")\n",
        "\n",
        "    # Radnom Forest classifier\n",
        "    rf = RandomForestClassifier(max_depth=51, n_estimators=97, max_features=2, random_state=27).fit(X_train, y_train)\n",
        "    rf_pred = rf.predict(X_test)\n",
        "\n",
        "    conf_mat = confusion_matrix(y_test, rf_pred)\n",
        "    fn = conf_mat[1,0]\n",
        "    # fp = conf_mat[0,1]\n",
        "    credit_risk = (fn/y_test.shape[0])*100\n",
        "\n",
        "    # process application\n",
        "    test_data = np.array([age, sex, education, marriage, cred_limit,re_apr, re_may, re_jun, re_jul, re_aug, re_sep,  \\\n",
        "                            bill_apr, bill_may, bill_jun, bill_jul, bill_aug, bill_sep, \\\n",
        "                            pre_apr, pre_may, pre_jun, pre_jul, pre_aug, pre_sep]).reshape(1,23)\n",
        "    \n",
        "    res = rf.predict(test_data)\n",
        "\n",
        "    # result \n",
        "    if res[0] == 0:\n",
        "        return \"Yes! With a credit risk of {:.1f}\".format(credit_risk)\n",
        "    elif res[0]==1:\n",
        "        return \"May default in payment \"\n",
        "\n",
        "\n"
      ]
    },
    {
      "cell_type": "code",
      "source": [
        "make_decision()"
      ],
      "metadata": {
        "colab": {
          "base_uri": "https://localhost:8080/",
          "height": 1000
        },
        "id": "jaxmYzaaOdO5",
        "outputId": "2bfe7cfc-e997-4ddd-9694-dfc6291be630"
      },
      "execution_count": 69,
      "outputs": [
        {
          "output_type": "stream",
          "name": "stdout",
          "text": [
            "Initializing Model.../\n",
            "\n",
            "ENTER THE DETAILS OF THE APPLICANT CORRECTLY\n",
            "================================================================================\n",
            "**Note** Make sure entries are numeric only.\n",
            "**Note** If the consumer is new and with no credit issues, enter -1 for repayment, 0 for previous payment statements.\n",
            "\n",
            "ENTER PERSONAL INFORMATION:\n",
            "Enter age of consumer: 45\n",
            "Enter gender of consumer (male: 1, female: 2): 2\n",
            "Enter education of the consumer (Graduate:1, University:2, High School:3, Others:4, Unknown:5): 2\n",
            "Mariatal status (Married:1, Unmarried:2, Other:3): 1\n",
            "Credit limit (NT Dollar): 1000000\n",
            "\n",
            "ENTER REPAYMENT STATUS\n",
            "**Note** For repayment status map the entries as follows:\n",
            "Pay duly: -1,\n",
            "Payment delay for 1 month: 1,\n",
            "Delay for 2 months: 2, \n",
            "Delay for 3 months: 3, \n",
            "Delay for 4 months: 4,     \n",
            "Delay for 5 months: 5, \n",
            "Delay for 6 months: 6 \n",
            "Delay for 7 months: 7, \n",
            "Delay for 8 months: 8, \n",
            "Delay for 9 months and above: 9\n",
            "**Note** For new consumer or with no credit history, enter -1.\n",
            "Repayment status in April: -1\n",
            "Repayment status in May: -1\n",
            "Repayment status in June: 2\n",
            "Repayment status in July: 5\n",
            "Repayment status in August: 7\n",
            "Repayment status in September: 9\n",
            "\n",
            "ENTER BILL AMOUNT DETAILS\n",
            "The asking bill amount for this form is between April 2005 - September 2005.\n",
            "However, you need enter the last 6 months bill amount\n",
            "Bill amount in April (NT Dollar): 546214.254614\n",
            "Bill amount in May (NT Dollar): 4587594.1542\n",
            "Bill amount in Jun (NT Dollar): 8575.21\n",
            "Bill amount in July (NT Dollar): 9874.3254\n",
            "Bill amount in August (NT Dollar): 6589.2541\n",
            "Bill amount in September (NT Dollar): 45745.215\n",
            "\n",
            "ENTER PREVIOUS PAYMENT STATUS\n",
            "Enter the previous payment status for last 6 months\n",
            "Previous payment amount in April (NT Dollar): 10000.00\n",
            "Previous payment amount in may (NT Dollar): 10000.00\n",
            "Previous payment amount in Jun (NT Dollar): 10000.00\n",
            "Previous payment amount in July (NT Dollar): 25421.00\n",
            "Previous payment amount in August (NT Dollar): 532120.0124\n",
            "Previous payment amount in September (NT Dollar): 1000.00\n",
            "================================================================================\n",
            "\n",
            "================================================================================\n",
            "Processing Application.../\n",
            "\n"
          ]
        },
        {
          "output_type": "execute_result",
          "data": {
            "text/plain": [
              "'Yes! With a credit risk of 7.9'"
            ],
            "application/vnd.google.colaboratory.intrinsic+json": {
              "type": "string"
            }
          },
          "metadata": {},
          "execution_count": 69
        }
      ]
    }
  ]
}